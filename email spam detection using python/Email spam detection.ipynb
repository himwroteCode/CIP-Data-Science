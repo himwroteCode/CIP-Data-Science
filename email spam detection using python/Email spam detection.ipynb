{
 "cells": [
  {
   "cell_type": "markdown",
   "id": "1fe6f13b",
   "metadata": {},
   "source": [
    "# Email Spam Detection \n",
    "Internship Task - 02"
   ]
  },
  {
   "cell_type": "markdown",
   "id": "4a08842c",
   "metadata": {},
   "source": [
    "##  by - Himanshu Vaish \n",
    "Data Science Intern at CodersCave"
   ]
  },
  {
   "cell_type": "code",
   "execution_count": 1,
   "id": "56810dbd",
   "metadata": {},
   "outputs": [],
   "source": [
    "import pandas as pd\n",
    "import numpy as np"
   ]
  },
  {
   "cell_type": "code",
   "execution_count": 2,
   "id": "7d0cdedc",
   "metadata": {},
   "outputs": [],
   "source": [
    "df = pd.read_csv('spam_ham_dataset.csv')"
   ]
  },
  {
   "cell_type": "code",
   "execution_count": 7,
   "id": "d518938b",
   "metadata": {},
   "outputs": [
    {
     "data": {
      "text/html": [
       "<div>\n",
       "<style scoped>\n",
       "    .dataframe tbody tr th:only-of-type {\n",
       "        vertical-align: middle;\n",
       "    }\n",
       "\n",
       "    .dataframe tbody tr th {\n",
       "        vertical-align: top;\n",
       "    }\n",
       "\n",
       "    .dataframe thead th {\n",
       "        text-align: right;\n",
       "    }\n",
       "</style>\n",
       "<table border=\"1\" class=\"dataframe\">\n",
       "  <thead>\n",
       "    <tr style=\"text-align: right;\">\n",
       "      <th></th>\n",
       "      <th>Unnamed: 0</th>\n",
       "      <th>label</th>\n",
       "      <th>text</th>\n",
       "      <th>label_num</th>\n",
       "    </tr>\n",
       "  </thead>\n",
       "  <tbody>\n",
       "    <tr>\n",
       "      <th>0</th>\n",
       "      <td>605</td>\n",
       "      <td>ham</td>\n",
       "      <td>Subject: enron methanol ; meter # : 988291\\r\\n...</td>\n",
       "      <td>0</td>\n",
       "    </tr>\n",
       "    <tr>\n",
       "      <th>1</th>\n",
       "      <td>2349</td>\n",
       "      <td>ham</td>\n",
       "      <td>Subject: hpl nom for january 9 , 2001\\r\\n( see...</td>\n",
       "      <td>0</td>\n",
       "    </tr>\n",
       "    <tr>\n",
       "      <th>2</th>\n",
       "      <td>3624</td>\n",
       "      <td>ham</td>\n",
       "      <td>Subject: neon retreat\\r\\nho ho ho , we ' re ar...</td>\n",
       "      <td>0</td>\n",
       "    </tr>\n",
       "    <tr>\n",
       "      <th>3</th>\n",
       "      <td>4685</td>\n",
       "      <td>spam</td>\n",
       "      <td>Subject: photoshop , windows , office . cheap ...</td>\n",
       "      <td>1</td>\n",
       "    </tr>\n",
       "    <tr>\n",
       "      <th>4</th>\n",
       "      <td>2030</td>\n",
       "      <td>ham</td>\n",
       "      <td>Subject: re : indian springs\\r\\nthis deal is t...</td>\n",
       "      <td>0</td>\n",
       "    </tr>\n",
       "    <tr>\n",
       "      <th>...</th>\n",
       "      <td>...</td>\n",
       "      <td>...</td>\n",
       "      <td>...</td>\n",
       "      <td>...</td>\n",
       "    </tr>\n",
       "    <tr>\n",
       "      <th>5166</th>\n",
       "      <td>1518</td>\n",
       "      <td>ham</td>\n",
       "      <td>Subject: put the 10 on the ft\\r\\nthe transport...</td>\n",
       "      <td>0</td>\n",
       "    </tr>\n",
       "    <tr>\n",
       "      <th>5167</th>\n",
       "      <td>404</td>\n",
       "      <td>ham</td>\n",
       "      <td>Subject: 3 / 4 / 2000 and following noms\\r\\nhp...</td>\n",
       "      <td>0</td>\n",
       "    </tr>\n",
       "    <tr>\n",
       "      <th>5168</th>\n",
       "      <td>2933</td>\n",
       "      <td>ham</td>\n",
       "      <td>Subject: calpine daily gas nomination\\r\\n&gt;\\r\\n...</td>\n",
       "      <td>0</td>\n",
       "    </tr>\n",
       "    <tr>\n",
       "      <th>5169</th>\n",
       "      <td>1409</td>\n",
       "      <td>ham</td>\n",
       "      <td>Subject: industrial worksheets for august 2000...</td>\n",
       "      <td>0</td>\n",
       "    </tr>\n",
       "    <tr>\n",
       "      <th>5170</th>\n",
       "      <td>4807</td>\n",
       "      <td>spam</td>\n",
       "      <td>Subject: important online banking alert\\r\\ndea...</td>\n",
       "      <td>1</td>\n",
       "    </tr>\n",
       "  </tbody>\n",
       "</table>\n",
       "<p>5171 rows × 4 columns</p>\n",
       "</div>"
      ],
      "text/plain": [
       "      Unnamed: 0 label                                               text  \\\n",
       "0            605   ham  Subject: enron methanol ; meter # : 988291\\r\\n...   \n",
       "1           2349   ham  Subject: hpl nom for january 9 , 2001\\r\\n( see...   \n",
       "2           3624   ham  Subject: neon retreat\\r\\nho ho ho , we ' re ar...   \n",
       "3           4685  spam  Subject: photoshop , windows , office . cheap ...   \n",
       "4           2030   ham  Subject: re : indian springs\\r\\nthis deal is t...   \n",
       "...          ...   ...                                                ...   \n",
       "5166        1518   ham  Subject: put the 10 on the ft\\r\\nthe transport...   \n",
       "5167         404   ham  Subject: 3 / 4 / 2000 and following noms\\r\\nhp...   \n",
       "5168        2933   ham  Subject: calpine daily gas nomination\\r\\n>\\r\\n...   \n",
       "5169        1409   ham  Subject: industrial worksheets for august 2000...   \n",
       "5170        4807  spam  Subject: important online banking alert\\r\\ndea...   \n",
       "\n",
       "      label_num  \n",
       "0             0  \n",
       "1             0  \n",
       "2             0  \n",
       "3             1  \n",
       "4             0  \n",
       "...         ...  \n",
       "5166          0  \n",
       "5167          0  \n",
       "5168          0  \n",
       "5169          0  \n",
       "5170          1  \n",
       "\n",
       "[5171 rows x 4 columns]"
      ]
     },
     "execution_count": 7,
     "metadata": {},
     "output_type": "execute_result"
    }
   ],
   "source": [
    "df"
   ]
  },
  {
   "cell_type": "code",
   "execution_count": 4,
   "id": "74887da8",
   "metadata": {},
   "outputs": [
    {
     "data": {
      "text/html": [
       "<div>\n",
       "<style scoped>\n",
       "    .dataframe tbody tr th:only-of-type {\n",
       "        vertical-align: middle;\n",
       "    }\n",
       "\n",
       "    .dataframe tbody tr th {\n",
       "        vertical-align: top;\n",
       "    }\n",
       "\n",
       "    .dataframe thead th {\n",
       "        text-align: right;\n",
       "    }\n",
       "</style>\n",
       "<table border=\"1\" class=\"dataframe\">\n",
       "  <thead>\n",
       "    <tr style=\"text-align: right;\">\n",
       "      <th></th>\n",
       "      <th>Unnamed: 0</th>\n",
       "      <th>label</th>\n",
       "      <th>text</th>\n",
       "      <th>label_num</th>\n",
       "    </tr>\n",
       "  </thead>\n",
       "  <tbody>\n",
       "    <tr>\n",
       "      <th>0</th>\n",
       "      <td>605</td>\n",
       "      <td>ham</td>\n",
       "      <td>Subject: enron methanol ; meter # : 988291\\r\\n...</td>\n",
       "      <td>0</td>\n",
       "    </tr>\n",
       "    <tr>\n",
       "      <th>1</th>\n",
       "      <td>2349</td>\n",
       "      <td>ham</td>\n",
       "      <td>Subject: hpl nom for january 9 , 2001\\r\\n( see...</td>\n",
       "      <td>0</td>\n",
       "    </tr>\n",
       "    <tr>\n",
       "      <th>2</th>\n",
       "      <td>3624</td>\n",
       "      <td>ham</td>\n",
       "      <td>Subject: neon retreat\\r\\nho ho ho , we ' re ar...</td>\n",
       "      <td>0</td>\n",
       "    </tr>\n",
       "    <tr>\n",
       "      <th>3</th>\n",
       "      <td>4685</td>\n",
       "      <td>spam</td>\n",
       "      <td>Subject: photoshop , windows , office . cheap ...</td>\n",
       "      <td>1</td>\n",
       "    </tr>\n",
       "    <tr>\n",
       "      <th>4</th>\n",
       "      <td>2030</td>\n",
       "      <td>ham</td>\n",
       "      <td>Subject: re : indian springs\\r\\nthis deal is t...</td>\n",
       "      <td>0</td>\n",
       "    </tr>\n",
       "  </tbody>\n",
       "</table>\n",
       "</div>"
      ],
      "text/plain": [
       "   Unnamed: 0 label                                               text  \\\n",
       "0         605   ham  Subject: enron methanol ; meter # : 988291\\r\\n...   \n",
       "1        2349   ham  Subject: hpl nom for january 9 , 2001\\r\\n( see...   \n",
       "2        3624   ham  Subject: neon retreat\\r\\nho ho ho , we ' re ar...   \n",
       "3        4685  spam  Subject: photoshop , windows , office . cheap ...   \n",
       "4        2030   ham  Subject: re : indian springs\\r\\nthis deal is t...   \n",
       "\n",
       "   label_num  \n",
       "0          0  \n",
       "1          0  \n",
       "2          0  \n",
       "3          1  \n",
       "4          0  "
      ]
     },
     "execution_count": 4,
     "metadata": {},
     "output_type": "execute_result"
    }
   ],
   "source": [
    "df.head()"
   ]
  },
  {
   "cell_type": "code",
   "execution_count": 6,
   "id": "bc7d16cb",
   "metadata": {},
   "outputs": [
    {
     "data": {
      "text/plain": [
       "Index(['Unnamed: 0', 'label', 'text', 'label_num'], dtype='object')"
      ]
     },
     "execution_count": 6,
     "metadata": {},
     "output_type": "execute_result"
    }
   ],
   "source": [
    "df.columns"
   ]
  },
  {
   "cell_type": "markdown",
   "id": "777dc6a5",
   "metadata": {},
   "source": [
    "## Feature Selection"
   ]
  },
  {
   "cell_type": "markdown",
   "id": "69cee3ef",
   "metadata": {},
   "source": [
    "#### Dropping irrelevant features from the dataset such as \"Unnamed:0\""
   ]
  },
  {
   "cell_type": "code",
   "execution_count": 8,
   "id": "3320c06e",
   "metadata": {},
   "outputs": [],
   "source": [
    "df.drop('Unnamed: 0', axis=1, inplace=True)"
   ]
  },
  {
   "cell_type": "code",
   "execution_count": 9,
   "id": "75a1b670",
   "metadata": {},
   "outputs": [
    {
     "data": {
      "text/html": [
       "<div>\n",
       "<style scoped>\n",
       "    .dataframe tbody tr th:only-of-type {\n",
       "        vertical-align: middle;\n",
       "    }\n",
       "\n",
       "    .dataframe tbody tr th {\n",
       "        vertical-align: top;\n",
       "    }\n",
       "\n",
       "    .dataframe thead th {\n",
       "        text-align: right;\n",
       "    }\n",
       "</style>\n",
       "<table border=\"1\" class=\"dataframe\">\n",
       "  <thead>\n",
       "    <tr style=\"text-align: right;\">\n",
       "      <th></th>\n",
       "      <th>label</th>\n",
       "      <th>text</th>\n",
       "      <th>label_num</th>\n",
       "    </tr>\n",
       "  </thead>\n",
       "  <tbody>\n",
       "    <tr>\n",
       "      <th>0</th>\n",
       "      <td>ham</td>\n",
       "      <td>Subject: enron methanol ; meter # : 988291\\r\\n...</td>\n",
       "      <td>0</td>\n",
       "    </tr>\n",
       "    <tr>\n",
       "      <th>1</th>\n",
       "      <td>ham</td>\n",
       "      <td>Subject: hpl nom for january 9 , 2001\\r\\n( see...</td>\n",
       "      <td>0</td>\n",
       "    </tr>\n",
       "    <tr>\n",
       "      <th>2</th>\n",
       "      <td>ham</td>\n",
       "      <td>Subject: neon retreat\\r\\nho ho ho , we ' re ar...</td>\n",
       "      <td>0</td>\n",
       "    </tr>\n",
       "    <tr>\n",
       "      <th>3</th>\n",
       "      <td>spam</td>\n",
       "      <td>Subject: photoshop , windows , office . cheap ...</td>\n",
       "      <td>1</td>\n",
       "    </tr>\n",
       "    <tr>\n",
       "      <th>4</th>\n",
       "      <td>ham</td>\n",
       "      <td>Subject: re : indian springs\\r\\nthis deal is t...</td>\n",
       "      <td>0</td>\n",
       "    </tr>\n",
       "    <tr>\n",
       "      <th>...</th>\n",
       "      <td>...</td>\n",
       "      <td>...</td>\n",
       "      <td>...</td>\n",
       "    </tr>\n",
       "    <tr>\n",
       "      <th>5166</th>\n",
       "      <td>ham</td>\n",
       "      <td>Subject: put the 10 on the ft\\r\\nthe transport...</td>\n",
       "      <td>0</td>\n",
       "    </tr>\n",
       "    <tr>\n",
       "      <th>5167</th>\n",
       "      <td>ham</td>\n",
       "      <td>Subject: 3 / 4 / 2000 and following noms\\r\\nhp...</td>\n",
       "      <td>0</td>\n",
       "    </tr>\n",
       "    <tr>\n",
       "      <th>5168</th>\n",
       "      <td>ham</td>\n",
       "      <td>Subject: calpine daily gas nomination\\r\\n&gt;\\r\\n...</td>\n",
       "      <td>0</td>\n",
       "    </tr>\n",
       "    <tr>\n",
       "      <th>5169</th>\n",
       "      <td>ham</td>\n",
       "      <td>Subject: industrial worksheets for august 2000...</td>\n",
       "      <td>0</td>\n",
       "    </tr>\n",
       "    <tr>\n",
       "      <th>5170</th>\n",
       "      <td>spam</td>\n",
       "      <td>Subject: important online banking alert\\r\\ndea...</td>\n",
       "      <td>1</td>\n",
       "    </tr>\n",
       "  </tbody>\n",
       "</table>\n",
       "<p>5171 rows × 3 columns</p>\n",
       "</div>"
      ],
      "text/plain": [
       "     label                                               text  label_num\n",
       "0      ham  Subject: enron methanol ; meter # : 988291\\r\\n...          0\n",
       "1      ham  Subject: hpl nom for january 9 , 2001\\r\\n( see...          0\n",
       "2      ham  Subject: neon retreat\\r\\nho ho ho , we ' re ar...          0\n",
       "3     spam  Subject: photoshop , windows , office . cheap ...          1\n",
       "4      ham  Subject: re : indian springs\\r\\nthis deal is t...          0\n",
       "...    ...                                                ...        ...\n",
       "5166   ham  Subject: put the 10 on the ft\\r\\nthe transport...          0\n",
       "5167   ham  Subject: 3 / 4 / 2000 and following noms\\r\\nhp...          0\n",
       "5168   ham  Subject: calpine daily gas nomination\\r\\n>\\r\\n...          0\n",
       "5169   ham  Subject: industrial worksheets for august 2000...          0\n",
       "5170  spam  Subject: important online banking alert\\r\\ndea...          1\n",
       "\n",
       "[5171 rows x 3 columns]"
      ]
     },
     "execution_count": 9,
     "metadata": {},
     "output_type": "execute_result"
    }
   ],
   "source": [
    "df"
   ]
  },
  {
   "cell_type": "code",
   "execution_count": 10,
   "id": "61626ec3",
   "metadata": {},
   "outputs": [
    {
     "data": {
      "text/plain": [
       "Index(['label', 'text', 'label_num'], dtype='object')"
      ]
     },
     "execution_count": 10,
     "metadata": {},
     "output_type": "execute_result"
    }
   ],
   "source": [
    "df.columns"
   ]
  },
  {
   "cell_type": "code",
   "execution_count": 12,
   "id": "eab02abc",
   "metadata": {},
   "outputs": [
    {
     "data": {
      "text/plain": [
       "label        0\n",
       "text         0\n",
       "label_num    0\n",
       "dtype: int64"
      ]
     },
     "execution_count": 12,
     "metadata": {},
     "output_type": "execute_result"
    }
   ],
   "source": [
    "df.isnull().sum()"
   ]
  },
  {
   "cell_type": "code",
   "execution_count": 18,
   "id": "eb7409b5",
   "metadata": {},
   "outputs": [
    {
     "data": {
      "text/plain": [
       "0       Subject: enron methanol ; meter # : 988291\\r\\n...\n",
       "1       Subject: hpl nom for january 9 , 2001\\r\\n( see...\n",
       "2       Subject: neon retreat\\r\\nho ho ho , we ' re ar...\n",
       "3       Subject: photoshop , windows , office . cheap ...\n",
       "4       Subject: re : indian springs\\r\\nthis deal is t...\n",
       "                              ...                        \n",
       "5166    Subject: put the 10 on the ft\\r\\nthe transport...\n",
       "5167    Subject: 3 / 4 / 2000 and following noms\\r\\nhp...\n",
       "5168    Subject: calpine daily gas nomination\\r\\n>\\r\\n...\n",
       "5169    Subject: industrial worksheets for august 2000...\n",
       "5170    Subject: important online banking alert\\r\\ndea...\n",
       "Name: text, Length: 5171, dtype: object"
      ]
     },
     "execution_count": 18,
     "metadata": {},
     "output_type": "execute_result"
    }
   ],
   "source": [
    "df['text']"
   ]
  },
  {
   "cell_type": "code",
   "execution_count": 16,
   "id": "db632e2d",
   "metadata": {},
   "outputs": [
    {
     "data": {
      "text/plain": [
       "(5171, 3)"
      ]
     },
     "execution_count": 16,
     "metadata": {},
     "output_type": "execute_result"
    }
   ],
   "source": [
    "df.shape"
   ]
  },
  {
   "cell_type": "code",
   "execution_count": 17,
   "id": "f1d07af3",
   "metadata": {},
   "outputs": [
    {
     "name": "stdout",
     "output_type": "stream",
     "text": [
      "<class 'pandas.core.frame.DataFrame'>\n",
      "RangeIndex: 5171 entries, 0 to 5170\n",
      "Data columns (total 3 columns):\n",
      " #   Column     Non-Null Count  Dtype \n",
      "---  ------     --------------  ----- \n",
      " 0   label      5171 non-null   object\n",
      " 1   text       5171 non-null   object\n",
      " 2   label_num  5171 non-null   int64 \n",
      "dtypes: int64(1), object(2)\n",
      "memory usage: 121.3+ KB\n"
     ]
    }
   ],
   "source": [
    "df.info()"
   ]
  },
  {
   "cell_type": "markdown",
   "id": "86513760",
   "metadata": {},
   "source": [
    "# Data cleaning and Preprocessing"
   ]
  },
  {
   "cell_type": "markdown",
   "id": "9f3ced8a",
   "metadata": {},
   "source": [
    "#### Removing unnecessary text that does not add any meaning to the email"
   ]
  },
  {
   "cell_type": "code",
   "execution_count": 20,
   "id": "7f5bc7f9",
   "metadata": {},
   "outputs": [],
   "source": [
    "import re"
   ]
  },
  {
   "cell_type": "code",
   "execution_count": 31,
   "id": "646c61fc",
   "metadata": {},
   "outputs": [],
   "source": [
    "# define a function to clean text data using regular expressions\n",
    "\n",
    "def clean_text(text):\n",
    "    text = re.sub(r\"\\S+@\\S+\", \"\", text)\n",
    "    text = re.sub(r\"http\\S+\", \"\", text)\n",
    "    text = re.sub(r\"[^a-zA-Z0-9\\s]\", \"\", text)\n",
    "    text = re.sub(r\"\\s+\", \" \", text).strip()\n",
    "        # tokenize the text\n",
    "    tokens = re.split(r\"\\s\", text)\n",
    "        # convert tokens to lowercase\n",
    "    tokens = [token.lower() for token in tokens]\n",
    "        # remove stop words\n",
    "    stop_words = set(['the', 'and', 'to', 'of', 'a', 'in', 'that', 'is', 'it', 'with', 'for'])\n",
    "    filtered_tokens = [token for token in tokens if token not in stop_words]\n",
    "    \n",
    "    # join filtered tokens back into text\n",
    "    clean_text = ' '.join(filtered_tokens)\n",
    "    \n",
    "    \n",
    "    return clean_text\n",
    "\n",
    "# apply the function to the 'text' column in the DataFrame\n",
    "df['clean_text'] = df['text'].apply(clean_text)\n"
   ]
  },
  {
   "cell_type": "code",
   "execution_count": 32,
   "id": "ffbdc4ed",
   "metadata": {},
   "outputs": [
    {
     "data": {
      "text/html": [
       "<div>\n",
       "<style scoped>\n",
       "    .dataframe tbody tr th:only-of-type {\n",
       "        vertical-align: middle;\n",
       "    }\n",
       "\n",
       "    .dataframe tbody tr th {\n",
       "        vertical-align: top;\n",
       "    }\n",
       "\n",
       "    .dataframe thead th {\n",
       "        text-align: right;\n",
       "    }\n",
       "</style>\n",
       "<table border=\"1\" class=\"dataframe\">\n",
       "  <thead>\n",
       "    <tr style=\"text-align: right;\">\n",
       "      <th></th>\n",
       "      <th>label</th>\n",
       "      <th>text</th>\n",
       "      <th>label_num</th>\n",
       "      <th>clean_text</th>\n",
       "    </tr>\n",
       "  </thead>\n",
       "  <tbody>\n",
       "    <tr>\n",
       "      <th>0</th>\n",
       "      <td>ham</td>\n",
       "      <td>Subject: enron methanol ; meter # : 988291\\r\\n...</td>\n",
       "      <td>0</td>\n",
       "      <td>subject enron methanol meter 988291 this follo...</td>\n",
       "    </tr>\n",
       "    <tr>\n",
       "      <th>1</th>\n",
       "      <td>ham</td>\n",
       "      <td>Subject: hpl nom for january 9 , 2001\\r\\n( see...</td>\n",
       "      <td>0</td>\n",
       "      <td>subject hpl nom january 9 2001 see attached fi...</td>\n",
       "    </tr>\n",
       "    <tr>\n",
       "      <th>2</th>\n",
       "      <td>ham</td>\n",
       "      <td>Subject: neon retreat\\r\\nho ho ho , we ' re ar...</td>\n",
       "      <td>0</td>\n",
       "      <td>subject neon retreat ho ho ho we re around mos...</td>\n",
       "    </tr>\n",
       "    <tr>\n",
       "      <th>3</th>\n",
       "      <td>spam</td>\n",
       "      <td>Subject: photoshop , windows , office . cheap ...</td>\n",
       "      <td>1</td>\n",
       "      <td>subject photoshop windows office cheap main tr...</td>\n",
       "    </tr>\n",
       "    <tr>\n",
       "      <th>4</th>\n",
       "      <td>ham</td>\n",
       "      <td>Subject: re : indian springs\\r\\nthis deal is t...</td>\n",
       "      <td>0</td>\n",
       "      <td>subject re indian springs this deal book teco ...</td>\n",
       "    </tr>\n",
       "    <tr>\n",
       "      <th>...</th>\n",
       "      <td>...</td>\n",
       "      <td>...</td>\n",
       "      <td>...</td>\n",
       "      <td>...</td>\n",
       "    </tr>\n",
       "    <tr>\n",
       "      <th>5166</th>\n",
       "      <td>ham</td>\n",
       "      <td>Subject: put the 10 on the ft\\r\\nthe transport...</td>\n",
       "      <td>0</td>\n",
       "      <td>subject put 10 on ft transport volumes decreas...</td>\n",
       "    </tr>\n",
       "    <tr>\n",
       "      <th>5167</th>\n",
       "      <td>ham</td>\n",
       "      <td>Subject: 3 / 4 / 2000 and following noms\\r\\nhp...</td>\n",
       "      <td>0</td>\n",
       "      <td>subject 3 4 2000 following noms hpl can t take...</td>\n",
       "    </tr>\n",
       "    <tr>\n",
       "      <th>5168</th>\n",
       "      <td>ham</td>\n",
       "      <td>Subject: calpine daily gas nomination\\r\\n&gt;\\r\\n...</td>\n",
       "      <td>0</td>\n",
       "      <td>subject calpine daily gas nomination julie as ...</td>\n",
       "    </tr>\n",
       "    <tr>\n",
       "      <th>5169</th>\n",
       "      <td>ham</td>\n",
       "      <td>Subject: industrial worksheets for august 2000...</td>\n",
       "      <td>0</td>\n",
       "      <td>subject industrial worksheets august 2000 acti...</td>\n",
       "    </tr>\n",
       "    <tr>\n",
       "      <th>5170</th>\n",
       "      <td>spam</td>\n",
       "      <td>Subject: important online banking alert\\r\\ndea...</td>\n",
       "      <td>1</td>\n",
       "      <td>subject important online banking alert dear va...</td>\n",
       "    </tr>\n",
       "  </tbody>\n",
       "</table>\n",
       "<p>5171 rows × 4 columns</p>\n",
       "</div>"
      ],
      "text/plain": [
       "     label                                               text  label_num  \\\n",
       "0      ham  Subject: enron methanol ; meter # : 988291\\r\\n...          0   \n",
       "1      ham  Subject: hpl nom for january 9 , 2001\\r\\n( see...          0   \n",
       "2      ham  Subject: neon retreat\\r\\nho ho ho , we ' re ar...          0   \n",
       "3     spam  Subject: photoshop , windows , office . cheap ...          1   \n",
       "4      ham  Subject: re : indian springs\\r\\nthis deal is t...          0   \n",
       "...    ...                                                ...        ...   \n",
       "5166   ham  Subject: put the 10 on the ft\\r\\nthe transport...          0   \n",
       "5167   ham  Subject: 3 / 4 / 2000 and following noms\\r\\nhp...          0   \n",
       "5168   ham  Subject: calpine daily gas nomination\\r\\n>\\r\\n...          0   \n",
       "5169   ham  Subject: industrial worksheets for august 2000...          0   \n",
       "5170  spam  Subject: important online banking alert\\r\\ndea...          1   \n",
       "\n",
       "                                             clean_text  \n",
       "0     subject enron methanol meter 988291 this follo...  \n",
       "1     subject hpl nom january 9 2001 see attached fi...  \n",
       "2     subject neon retreat ho ho ho we re around mos...  \n",
       "3     subject photoshop windows office cheap main tr...  \n",
       "4     subject re indian springs this deal book teco ...  \n",
       "...                                                 ...  \n",
       "5166  subject put 10 on ft transport volumes decreas...  \n",
       "5167  subject 3 4 2000 following noms hpl can t take...  \n",
       "5168  subject calpine daily gas nomination julie as ...  \n",
       "5169  subject industrial worksheets august 2000 acti...  \n",
       "5170  subject important online banking alert dear va...  \n",
       "\n",
       "[5171 rows x 4 columns]"
      ]
     },
     "execution_count": 32,
     "metadata": {},
     "output_type": "execute_result"
    }
   ],
   "source": [
    "df"
   ]
  },
  {
   "cell_type": "code",
   "execution_count": 33,
   "id": "a67bbf7c",
   "metadata": {},
   "outputs": [
    {
     "data": {
      "text/plain": [
       "0       subject enron methanol meter 988291 this follo...\n",
       "1       subject hpl nom january 9 2001 see attached fi...\n",
       "2       subject neon retreat ho ho ho we re around mos...\n",
       "3       subject photoshop windows office cheap main tr...\n",
       "4       subject re indian springs this deal book teco ...\n",
       "                              ...                        \n",
       "5166    subject put 10 on ft transport volumes decreas...\n",
       "5167    subject 3 4 2000 following noms hpl can t take...\n",
       "5168    subject calpine daily gas nomination julie as ...\n",
       "5169    subject industrial worksheets august 2000 acti...\n",
       "5170    subject important online banking alert dear va...\n",
       "Name: clean_text, Length: 5171, dtype: object"
      ]
     },
     "execution_count": 33,
     "metadata": {},
     "output_type": "execute_result"
    }
   ],
   "source": [
    "df['clean_text']"
   ]
  },
  {
   "cell_type": "code",
   "execution_count": 34,
   "id": "ca31595b",
   "metadata": {},
   "outputs": [],
   "source": [
    "df['clean_text'] = df['clean_text'].str.replace('subject ', '')"
   ]
  },
  {
   "cell_type": "code",
   "execution_count": 35,
   "id": "d80eb9b3",
   "metadata": {},
   "outputs": [
    {
     "data": {
      "text/plain": [
       "0       enron methanol meter 988291 this follow up not...\n",
       "1       hpl nom january 9 2001 see attached file hplno...\n",
       "2       neon retreat ho ho ho we re around most wonder...\n",
       "3       photoshop windows office cheap main trending a...\n",
       "4       re indian springs this deal book teco pvr reve...\n",
       "                              ...                        \n",
       "5166    put 10 on ft transport volumes decreased from ...\n",
       "5167    3 4 2000 following noms hpl can t take extra 1...\n",
       "5168    calpine daily gas nomination julie as i mentio...\n",
       "5169    industrial worksheets august 2000 activity att...\n",
       "5170    important online banking alert dear valued cit...\n",
       "Name: clean_text, Length: 5171, dtype: object"
      ]
     },
     "execution_count": 35,
     "metadata": {},
     "output_type": "execute_result"
    }
   ],
   "source": [
    "df['clean_text']"
   ]
  },
  {
   "cell_type": "code",
   "execution_count": 36,
   "id": "6521678c",
   "metadata": {},
   "outputs": [
    {
     "data": {
      "text/html": [
       "<div>\n",
       "<style scoped>\n",
       "    .dataframe tbody tr th:only-of-type {\n",
       "        vertical-align: middle;\n",
       "    }\n",
       "\n",
       "    .dataframe tbody tr th {\n",
       "        vertical-align: top;\n",
       "    }\n",
       "\n",
       "    .dataframe thead th {\n",
       "        text-align: right;\n",
       "    }\n",
       "</style>\n",
       "<table border=\"1\" class=\"dataframe\">\n",
       "  <thead>\n",
       "    <tr style=\"text-align: right;\">\n",
       "      <th></th>\n",
       "      <th>label</th>\n",
       "      <th>text</th>\n",
       "      <th>label_num</th>\n",
       "      <th>clean_text</th>\n",
       "    </tr>\n",
       "  </thead>\n",
       "  <tbody>\n",
       "    <tr>\n",
       "      <th>0</th>\n",
       "      <td>ham</td>\n",
       "      <td>Subject: enron methanol ; meter # : 988291\\r\\n...</td>\n",
       "      <td>0</td>\n",
       "      <td>enron methanol meter 988291 this follow up not...</td>\n",
       "    </tr>\n",
       "    <tr>\n",
       "      <th>1</th>\n",
       "      <td>ham</td>\n",
       "      <td>Subject: hpl nom for january 9 , 2001\\r\\n( see...</td>\n",
       "      <td>0</td>\n",
       "      <td>hpl nom january 9 2001 see attached file hplno...</td>\n",
       "    </tr>\n",
       "    <tr>\n",
       "      <th>2</th>\n",
       "      <td>ham</td>\n",
       "      <td>Subject: neon retreat\\r\\nho ho ho , we ' re ar...</td>\n",
       "      <td>0</td>\n",
       "      <td>neon retreat ho ho ho we re around most wonder...</td>\n",
       "    </tr>\n",
       "    <tr>\n",
       "      <th>3</th>\n",
       "      <td>spam</td>\n",
       "      <td>Subject: photoshop , windows , office . cheap ...</td>\n",
       "      <td>1</td>\n",
       "      <td>photoshop windows office cheap main trending a...</td>\n",
       "    </tr>\n",
       "    <tr>\n",
       "      <th>4</th>\n",
       "      <td>ham</td>\n",
       "      <td>Subject: re : indian springs\\r\\nthis deal is t...</td>\n",
       "      <td>0</td>\n",
       "      <td>re indian springs this deal book teco pvr reve...</td>\n",
       "    </tr>\n",
       "    <tr>\n",
       "      <th>...</th>\n",
       "      <td>...</td>\n",
       "      <td>...</td>\n",
       "      <td>...</td>\n",
       "      <td>...</td>\n",
       "    </tr>\n",
       "    <tr>\n",
       "      <th>5166</th>\n",
       "      <td>ham</td>\n",
       "      <td>Subject: put the 10 on the ft\\r\\nthe transport...</td>\n",
       "      <td>0</td>\n",
       "      <td>put 10 on ft transport volumes decreased from ...</td>\n",
       "    </tr>\n",
       "    <tr>\n",
       "      <th>5167</th>\n",
       "      <td>ham</td>\n",
       "      <td>Subject: 3 / 4 / 2000 and following noms\\r\\nhp...</td>\n",
       "      <td>0</td>\n",
       "      <td>3 4 2000 following noms hpl can t take extra 1...</td>\n",
       "    </tr>\n",
       "    <tr>\n",
       "      <th>5168</th>\n",
       "      <td>ham</td>\n",
       "      <td>Subject: calpine daily gas nomination\\r\\n&gt;\\r\\n...</td>\n",
       "      <td>0</td>\n",
       "      <td>calpine daily gas nomination julie as i mentio...</td>\n",
       "    </tr>\n",
       "    <tr>\n",
       "      <th>5169</th>\n",
       "      <td>ham</td>\n",
       "      <td>Subject: industrial worksheets for august 2000...</td>\n",
       "      <td>0</td>\n",
       "      <td>industrial worksheets august 2000 activity att...</td>\n",
       "    </tr>\n",
       "    <tr>\n",
       "      <th>5170</th>\n",
       "      <td>spam</td>\n",
       "      <td>Subject: important online banking alert\\r\\ndea...</td>\n",
       "      <td>1</td>\n",
       "      <td>important online banking alert dear valued cit...</td>\n",
       "    </tr>\n",
       "  </tbody>\n",
       "</table>\n",
       "<p>5171 rows × 4 columns</p>\n",
       "</div>"
      ],
      "text/plain": [
       "     label                                               text  label_num  \\\n",
       "0      ham  Subject: enron methanol ; meter # : 988291\\r\\n...          0   \n",
       "1      ham  Subject: hpl nom for january 9 , 2001\\r\\n( see...          0   \n",
       "2      ham  Subject: neon retreat\\r\\nho ho ho , we ' re ar...          0   \n",
       "3     spam  Subject: photoshop , windows , office . cheap ...          1   \n",
       "4      ham  Subject: re : indian springs\\r\\nthis deal is t...          0   \n",
       "...    ...                                                ...        ...   \n",
       "5166   ham  Subject: put the 10 on the ft\\r\\nthe transport...          0   \n",
       "5167   ham  Subject: 3 / 4 / 2000 and following noms\\r\\nhp...          0   \n",
       "5168   ham  Subject: calpine daily gas nomination\\r\\n>\\r\\n...          0   \n",
       "5169   ham  Subject: industrial worksheets for august 2000...          0   \n",
       "5170  spam  Subject: important online banking alert\\r\\ndea...          1   \n",
       "\n",
       "                                             clean_text  \n",
       "0     enron methanol meter 988291 this follow up not...  \n",
       "1     hpl nom january 9 2001 see attached file hplno...  \n",
       "2     neon retreat ho ho ho we re around most wonder...  \n",
       "3     photoshop windows office cheap main trending a...  \n",
       "4     re indian springs this deal book teco pvr reve...  \n",
       "...                                                 ...  \n",
       "5166  put 10 on ft transport volumes decreased from ...  \n",
       "5167  3 4 2000 following noms hpl can t take extra 1...  \n",
       "5168  calpine daily gas nomination julie as i mentio...  \n",
       "5169  industrial worksheets august 2000 activity att...  \n",
       "5170  important online banking alert dear valued cit...  \n",
       "\n",
       "[5171 rows x 4 columns]"
      ]
     },
     "execution_count": 36,
     "metadata": {},
     "output_type": "execute_result"
    }
   ],
   "source": [
    "df"
   ]
  },
  {
   "cell_type": "markdown",
   "id": "d7e7b329",
   "metadata": {},
   "source": [
    "#### Since we have cleaned the text data that will be used to feed to the model, so we can drop raw data "
   ]
  },
  {
   "cell_type": "code",
   "execution_count": 37,
   "id": "aa93b3ef",
   "metadata": {},
   "outputs": [],
   "source": [
    "df.drop('text', axis=1, inplace=True)"
   ]
  },
  {
   "cell_type": "code",
   "execution_count": 38,
   "id": "2dde3f3d",
   "metadata": {},
   "outputs": [
    {
     "data": {
      "text/html": [
       "<div>\n",
       "<style scoped>\n",
       "    .dataframe tbody tr th:only-of-type {\n",
       "        vertical-align: middle;\n",
       "    }\n",
       "\n",
       "    .dataframe tbody tr th {\n",
       "        vertical-align: top;\n",
       "    }\n",
       "\n",
       "    .dataframe thead th {\n",
       "        text-align: right;\n",
       "    }\n",
       "</style>\n",
       "<table border=\"1\" class=\"dataframe\">\n",
       "  <thead>\n",
       "    <tr style=\"text-align: right;\">\n",
       "      <th></th>\n",
       "      <th>label</th>\n",
       "      <th>label_num</th>\n",
       "      <th>clean_text</th>\n",
       "    </tr>\n",
       "  </thead>\n",
       "  <tbody>\n",
       "    <tr>\n",
       "      <th>0</th>\n",
       "      <td>ham</td>\n",
       "      <td>0</td>\n",
       "      <td>enron methanol meter 988291 this follow up not...</td>\n",
       "    </tr>\n",
       "    <tr>\n",
       "      <th>1</th>\n",
       "      <td>ham</td>\n",
       "      <td>0</td>\n",
       "      <td>hpl nom january 9 2001 see attached file hplno...</td>\n",
       "    </tr>\n",
       "    <tr>\n",
       "      <th>2</th>\n",
       "      <td>ham</td>\n",
       "      <td>0</td>\n",
       "      <td>neon retreat ho ho ho we re around most wonder...</td>\n",
       "    </tr>\n",
       "    <tr>\n",
       "      <th>3</th>\n",
       "      <td>spam</td>\n",
       "      <td>1</td>\n",
       "      <td>photoshop windows office cheap main trending a...</td>\n",
       "    </tr>\n",
       "    <tr>\n",
       "      <th>4</th>\n",
       "      <td>ham</td>\n",
       "      <td>0</td>\n",
       "      <td>re indian springs this deal book teco pvr reve...</td>\n",
       "    </tr>\n",
       "    <tr>\n",
       "      <th>...</th>\n",
       "      <td>...</td>\n",
       "      <td>...</td>\n",
       "      <td>...</td>\n",
       "    </tr>\n",
       "    <tr>\n",
       "      <th>5166</th>\n",
       "      <td>ham</td>\n",
       "      <td>0</td>\n",
       "      <td>put 10 on ft transport volumes decreased from ...</td>\n",
       "    </tr>\n",
       "    <tr>\n",
       "      <th>5167</th>\n",
       "      <td>ham</td>\n",
       "      <td>0</td>\n",
       "      <td>3 4 2000 following noms hpl can t take extra 1...</td>\n",
       "    </tr>\n",
       "    <tr>\n",
       "      <th>5168</th>\n",
       "      <td>ham</td>\n",
       "      <td>0</td>\n",
       "      <td>calpine daily gas nomination julie as i mentio...</td>\n",
       "    </tr>\n",
       "    <tr>\n",
       "      <th>5169</th>\n",
       "      <td>ham</td>\n",
       "      <td>0</td>\n",
       "      <td>industrial worksheets august 2000 activity att...</td>\n",
       "    </tr>\n",
       "    <tr>\n",
       "      <th>5170</th>\n",
       "      <td>spam</td>\n",
       "      <td>1</td>\n",
       "      <td>important online banking alert dear valued cit...</td>\n",
       "    </tr>\n",
       "  </tbody>\n",
       "</table>\n",
       "<p>5171 rows × 3 columns</p>\n",
       "</div>"
      ],
      "text/plain": [
       "     label  label_num                                         clean_text\n",
       "0      ham          0  enron methanol meter 988291 this follow up not...\n",
       "1      ham          0  hpl nom january 9 2001 see attached file hplno...\n",
       "2      ham          0  neon retreat ho ho ho we re around most wonder...\n",
       "3     spam          1  photoshop windows office cheap main trending a...\n",
       "4      ham          0  re indian springs this deal book teco pvr reve...\n",
       "...    ...        ...                                                ...\n",
       "5166   ham          0  put 10 on ft transport volumes decreased from ...\n",
       "5167   ham          0  3 4 2000 following noms hpl can t take extra 1...\n",
       "5168   ham          0  calpine daily gas nomination julie as i mentio...\n",
       "5169   ham          0  industrial worksheets august 2000 activity att...\n",
       "5170  spam          1  important online banking alert dear valued cit...\n",
       "\n",
       "[5171 rows x 3 columns]"
      ]
     },
     "execution_count": 38,
     "metadata": {},
     "output_type": "execute_result"
    }
   ],
   "source": [
    "df"
   ]
  },
  {
   "cell_type": "markdown",
   "id": "31a540a9",
   "metadata": {},
   "source": [
    "### Now that we have cleaned our text data so its time to split the train and test variable for this we will need to import train test split module from Scikitlearn library"
   ]
  },
  {
   "cell_type": "code",
   "execution_count": 41,
   "id": "d5fd791f",
   "metadata": {},
   "outputs": [],
   "source": [
    "import sklearn"
   ]
  },
  {
   "cell_type": "code",
   "execution_count": 42,
   "id": "5e1ac51c",
   "metadata": {},
   "outputs": [],
   "source": [
    "from sklearn.model_selection import train_test_split\n"
   ]
  },
  {
   "cell_type": "code",
   "execution_count": 43,
   "id": "5b180d4e",
   "metadata": {},
   "outputs": [],
   "source": [
    "X = df['clean_text']\n",
    "y = df['label_num'] \n"
   ]
  },
  {
   "cell_type": "code",
   "execution_count": 45,
   "id": "e2801102",
   "metadata": {},
   "outputs": [
    {
     "data": {
      "text/plain": [
       "0       enron methanol meter 988291 this follow up not...\n",
       "1       hpl nom january 9 2001 see attached file hplno...\n",
       "2       neon retreat ho ho ho we re around most wonder...\n",
       "3       photoshop windows office cheap main trending a...\n",
       "4       re indian springs this deal book teco pvr reve...\n",
       "                              ...                        \n",
       "5166    put 10 on ft transport volumes decreased from ...\n",
       "5167    3 4 2000 following noms hpl can t take extra 1...\n",
       "5168    calpine daily gas nomination julie as i mentio...\n",
       "5169    industrial worksheets august 2000 activity att...\n",
       "5170    important online banking alert dear valued cit...\n",
       "Name: clean_text, Length: 5171, dtype: object"
      ]
     },
     "execution_count": 45,
     "metadata": {},
     "output_type": "execute_result"
    }
   ],
   "source": [
    "X"
   ]
  },
  {
   "cell_type": "code",
   "execution_count": 47,
   "id": "b6a33519",
   "metadata": {},
   "outputs": [
    {
     "data": {
      "text/plain": [
       "0       0\n",
       "1       0\n",
       "2       0\n",
       "3       1\n",
       "4       0\n",
       "       ..\n",
       "5166    0\n",
       "5167    0\n",
       "5168    0\n",
       "5169    0\n",
       "5170    1\n",
       "Name: label_num, Length: 5171, dtype: int64"
      ]
     },
     "execution_count": 47,
     "metadata": {},
     "output_type": "execute_result"
    }
   ],
   "source": [
    "y"
   ]
  },
  {
   "cell_type": "code",
   "execution_count": 89,
   "id": "7b5db181",
   "metadata": {},
   "outputs": [],
   "source": [
    "X_train, X_test, y_train, y_test = train_test_split(X, y, test_size=0.3, random_state=42)"
   ]
  },
  {
   "cell_type": "code",
   "execution_count": 90,
   "id": "dcf01c7d",
   "metadata": {},
   "outputs": [
    {
     "data": {
      "text/plain": [
       "1023    re tenaska i see demand fee changes williams p...\n",
       "4586    strong buy alert monthly newsletter topstocks ...\n",
       "2955    performance feedback each you have been chosen...\n",
       "2495    hr performance objectives binders good morning...\n",
       "3353    fw fwd fw drawing by school age child pa fwd t...\n",
       "                              ...                        \n",
       "4426    re ena sales on hpl last i had was legal was r...\n",
       "466     tenaska iv bob i understand from sandi you ll ...\n",
       "3092    broom bristles up flew be differentiable onoma...\n",
       "3772    calpine daily gas nomination weekend ricky arc...\n",
       "860     re meter 1459 6 00 yep you re right except s o...\n",
       "Name: clean_text, Length: 3619, dtype: object"
      ]
     },
     "execution_count": 90,
     "metadata": {},
     "output_type": "execute_result"
    }
   ],
   "source": [
    "X_train"
   ]
  },
  {
   "cell_type": "code",
   "execution_count": 91,
   "id": "91d9a62d",
   "metadata": {},
   "outputs": [
    {
     "data": {
      "text/plain": [
       "1566    hpl nom march 30 2001 see attached file hplno ...\n",
       "1988    online pharxmacy 80 off all meds disscount pha...\n",
       "1235    re nom actual volume april 17 th we agree eile...\n",
       "2868    re meter 8740 dec 99 robert i put our heads to...\n",
       "4903    re coastal oil gas corporation melissa deal 34...\n",
       "                              ...                        \n",
       "5135    revision 1 enron hpl actuals august 3 2000 iss...\n",
       "2298    re discrepancies price gas redelivered at mobi...\n",
       "1519    well head here list meter i moved from lst on ...\n",
       "1740    jordyn there nothing like dream create future ...\n",
       "1700    union gas thamm 1 tom thamm 1 well came on lin...\n",
       "Name: clean_text, Length: 1552, dtype: object"
      ]
     },
     "execution_count": 91,
     "metadata": {},
     "output_type": "execute_result"
    }
   ],
   "source": [
    "X_test"
   ]
  },
  {
   "cell_type": "markdown",
   "id": "cbc0508c",
   "metadata": {},
   "source": [
    "# Feature Extraction"
   ]
  },
  {
   "cell_type": "code",
   "execution_count": 58,
   "id": "d6109950",
   "metadata": {},
   "outputs": [],
   "source": [
    "from sklearn.feature_extraction.text import TfidfVectorizer\n"
   ]
  },
  {
   "cell_type": "code",
   "execution_count": 92,
   "id": "fdc8a86e",
   "metadata": {},
   "outputs": [],
   "source": [
    "# transform the text data to feature vectors that can be used as input to the Logistic regression\n",
    "\n",
    "feature_extraction = TfidfVectorizer(max_df=0.7, stop_words='english')\n",
    "\n",
    "X_train_features = feature_extraction.fit_transform(X_train)\n",
    "X_test_features = feature_extraction.transform(X_test)\n",
    "\n",
    "# convert Y_train and Y_test values as integers\n",
    "\n",
    "y_train = y_train.astype('int')\n",
    "y_test = y_test.astype('int')"
   ]
  },
  {
   "cell_type": "code",
   "execution_count": 93,
   "id": "52244435",
   "metadata": {},
   "outputs": [
    {
     "data": {
      "text/plain": [
       "(1566    0\n",
       " 1988    1\n",
       " 1235    0\n",
       " 2868    0\n",
       " 4903    0\n",
       "        ..\n",
       " 5135    0\n",
       " 2298    0\n",
       " 1519    0\n",
       " 1740    1\n",
       " 1700    0\n",
       " Name: label_num, Length: 1552, dtype: int32,\n",
       " 1023    0\n",
       " 4586    1\n",
       " 2955    0\n",
       " 2495    0\n",
       " 3353    0\n",
       "        ..\n",
       " 4426    0\n",
       " 466     0\n",
       " 3092    1\n",
       " 3772    0\n",
       " 860     0\n",
       " Name: label_num, Length: 3619, dtype: int32)"
      ]
     },
     "execution_count": 93,
     "metadata": {},
     "output_type": "execute_result"
    }
   ],
   "source": [
    "y_test, y_train"
   ]
  },
  {
   "cell_type": "code",
   "execution_count": 94,
   "id": "769707ba",
   "metadata": {},
   "outputs": [
    {
     "name": "stdout",
     "output_type": "stream",
     "text": [
      "  (0, 40502)\t0.34416867567520637\n",
      "  (0, 27174)\t0.1646067888834387\n",
      "  (0, 24928)\t0.197087795068719\n",
      "  (0, 20406)\t0.49655991440974956\n",
      "  (0, 20401)\t0.13037863127281704\n",
      "  (0, 17089)\t0.168138035912095\n",
      "  (0, 6274)\t0.14199092872157937\n",
      "  (0, 1509)\t0.6750070496138264\n",
      "  (0, 1379)\t0.16217284181745661\n",
      "  (0, 932)\t0.14721488399652838\n",
      "  (1, 41154)\t0.005154297078281474\n",
      "  (1, 40971)\t0.08870355300858138\n",
      "  (1, 39930)\t0.06910443214882987\n",
      "  (1, 39514)\t0.08147098934494065\n",
      "  (1, 39303)\t0.09552690324001073\n",
      "  (1, 38929)\t0.004029150619894842\n",
      "  (1, 38814)\t0.08870355300858138\n",
      "  (1, 38684)\t0.09552690324001073\n",
      "  (1, 38141)\t0.09552690324001073\n",
      "  (1, 37901)\t0.08447277448127313\n",
      "  (1, 37653)\t0.07300943229032412\n",
      "  (1, 37471)\t0.05054499158560902\n",
      "  (1, 37239)\t0.0037503107316411567\n",
      "  (1, 37204)\t0.08870355300858138\n",
      "  (1, 37192)\t0.002804269307207404\n",
      "  :\t:\n",
      "  (1551, 20439)\t0.12623257519242975\n",
      "  (1551, 18381)\t0.223172375027066\n",
      "  (1551, 18195)\t0.16824692943813288\n",
      "  (1551, 18169)\t0.14040130272918946\n",
      "  (1551, 17544)\t0.18735496063825638\n",
      "  (1551, 17478)\t0.09334446466623403\n",
      "  (1551, 17206)\t0.26814458815776304\n",
      "  (1551, 13258)\t0.11645473731176637\n",
      "  (1551, 12960)\t0.14930698456170213\n",
      "  (1551, 12841)\t0.12734654743526422\n",
      "  (1551, 12206)\t0.24530810093658295\n",
      "  (1551, 12030)\t0.12080010416653945\n",
      "  (1551, 11895)\t0.1392438366717634\n",
      "  (1551, 11672)\t0.0960381931436027\n",
      "  (1551, 11308)\t0.14617183706087766\n",
      "  (1551, 9193)\t0.14977265170889345\n",
      "  (1551, 9163)\t0.15969686934539146\n",
      "  (1551, 6941)\t0.16260134919745475\n",
      "  (1551, 6939)\t0.11045690257392969\n",
      "  (1551, 2603)\t0.131643435585677\n",
      "  (1551, 2162)\t0.11551379061393122\n",
      "  (1551, 2010)\t0.11442547578991144\n",
      "  (1551, 219)\t0.1054051772273424\n",
      "  (1551, 218)\t0.07034404342705969\n",
      "  (1551, 0)\t0.07986508582056219\n"
     ]
    }
   ],
   "source": [
    "print(X_test_features)"
   ]
  },
  {
   "cell_type": "code",
   "execution_count": 71,
   "id": "ee8d96af",
   "metadata": {},
   "outputs": [
    {
     "name": "stdout",
     "output_type": "stream",
     "text": [
      "  (0, 1853)\t0.12750487396195365\n",
      "  (0, 37070)\t0.11414347477606444\n",
      "  (0, 40137)\t0.040898643735247285\n",
      "  (0, 40415)\t0.05445772847735547\n",
      "  (0, 5441)\t0.1319987814525077\n",
      "  (0, 12050)\t0.08391836201633315\n",
      "  (0, 41585)\t0.10321943464085148\n",
      "  (0, 2788)\t0.1256208579356469\n",
      "  (0, 12954)\t0.11511028393350906\n",
      "  (0, 26141)\t0.07780276516351\n",
      "  (0, 12486)\t0.06498167691060887\n",
      "  (0, 25113)\t0.04553854272717154\n",
      "  (0, 25890)\t0.049397263610778376\n",
      "  (0, 39813)\t0.0780511248999681\n",
      "  (0, 23127)\t0.05503515268479148\n",
      "  (0, 26040)\t0.05930363810971771\n",
      "  (0, 29239)\t0.048974157677262604\n",
      "  (0, 16533)\t0.10923610115243526\n",
      "  (0, 7757)\t0.16749118291816423\n",
      "  (0, 26152)\t0.06655400848817015\n",
      "  (0, 34403)\t0.11721643466196938\n",
      "  (0, 36805)\t0.06749891732007518\n",
      "  (0, 39278)\t0.1319987814525077\n",
      "  (0, 10066)\t0.1319987814525077\n",
      "  (0, 34940)\t0.1472815530067395\n",
      "  :\t:\n",
      "  (4135, 29878)\t0.06349140829594868\n",
      "  (4135, 50)\t0.05141148827082657\n",
      "  (4135, 70)\t0.057941778117438725\n",
      "  (4135, 761)\t0.06441567085187117\n",
      "  (4135, 32318)\t0.09136751889193517\n",
      "  (4135, 0)\t0.25311225366039075\n",
      "  (4135, 24541)\t0.21014747698221126\n",
      "  (4135, 10150)\t0.0807216095895482\n",
      "  (4135, 25500)\t0.1766591821117692\n",
      "  (4135, 5138)\t0.3304111861558239\n",
      "  (4135, 40627)\t0.08138230749406292\n",
      "  (4135, 10422)\t0.08334586038708962\n",
      "  (4135, 16187)\t0.19230508796660206\n",
      "  (4135, 21991)\t0.097255257941419\n",
      "  (4135, 165)\t0.13091813312060438\n",
      "  (4135, 977)\t0.07644195945344828\n",
      "  (4135, 399)\t0.05208205844524362\n",
      "  (4135, 36917)\t0.203266412228749\n",
      "  (4135, 13941)\t0.14058531368233226\n",
      "  (4135, 27837)\t0.20329437570261352\n",
      "  (4135, 40137)\t0.039662666436508946\n",
      "  (4135, 25113)\t0.13248703613874946\n",
      "  (4135, 25890)\t0.1437133614126746\n",
      "  (4135, 29239)\t0.04749413434187357\n",
      "  (4135, 13846)\t0.05304038084307915\n"
     ]
    }
   ],
   "source": [
    "print(X_train_features)"
   ]
  },
  {
   "cell_type": "markdown",
   "id": "1658dcb4",
   "metadata": {},
   "source": [
    "## Now that everything is done, we will finally train our machine learning logistic regression model on the above data"
   ]
  },
  {
   "cell_type": "code",
   "execution_count": 95,
   "id": "6487a2b0",
   "metadata": {},
   "outputs": [],
   "source": [
    "from sklearn.linear_model import LogisticRegression"
   ]
  },
  {
   "cell_type": "code",
   "execution_count": 96,
   "id": "247830f1",
   "metadata": {},
   "outputs": [],
   "source": [
    "model = LogisticRegression()"
   ]
  },
  {
   "cell_type": "markdown",
   "id": "da1e63da",
   "metadata": {},
   "source": [
    "### training the Logistic Regression model with the training data\n"
   ]
  },
  {
   "cell_type": "code",
   "execution_count": 97,
   "id": "aaf9605c",
   "metadata": {},
   "outputs": [
    {
     "data": {
      "text/html": [
       "<style>#sk-container-id-2 {color: black;background-color: white;}#sk-container-id-2 pre{padding: 0;}#sk-container-id-2 div.sk-toggleable {background-color: white;}#sk-container-id-2 label.sk-toggleable__label {cursor: pointer;display: block;width: 100%;margin-bottom: 0;padding: 0.3em;box-sizing: border-box;text-align: center;}#sk-container-id-2 label.sk-toggleable__label-arrow:before {content: \"▸\";float: left;margin-right: 0.25em;color: #696969;}#sk-container-id-2 label.sk-toggleable__label-arrow:hover:before {color: black;}#sk-container-id-2 div.sk-estimator:hover label.sk-toggleable__label-arrow:before {color: black;}#sk-container-id-2 div.sk-toggleable__content {max-height: 0;max-width: 0;overflow: hidden;text-align: left;background-color: #f0f8ff;}#sk-container-id-2 div.sk-toggleable__content pre {margin: 0.2em;color: black;border-radius: 0.25em;background-color: #f0f8ff;}#sk-container-id-2 input.sk-toggleable__control:checked~div.sk-toggleable__content {max-height: 200px;max-width: 100%;overflow: auto;}#sk-container-id-2 input.sk-toggleable__control:checked~label.sk-toggleable__label-arrow:before {content: \"▾\";}#sk-container-id-2 div.sk-estimator input.sk-toggleable__control:checked~label.sk-toggleable__label {background-color: #d4ebff;}#sk-container-id-2 div.sk-label input.sk-toggleable__control:checked~label.sk-toggleable__label {background-color: #d4ebff;}#sk-container-id-2 input.sk-hidden--visually {border: 0;clip: rect(1px 1px 1px 1px);clip: rect(1px, 1px, 1px, 1px);height: 1px;margin: -1px;overflow: hidden;padding: 0;position: absolute;width: 1px;}#sk-container-id-2 div.sk-estimator {font-family: monospace;background-color: #f0f8ff;border: 1px dotted black;border-radius: 0.25em;box-sizing: border-box;margin-bottom: 0.5em;}#sk-container-id-2 div.sk-estimator:hover {background-color: #d4ebff;}#sk-container-id-2 div.sk-parallel-item::after {content: \"\";width: 100%;border-bottom: 1px solid gray;flex-grow: 1;}#sk-container-id-2 div.sk-label:hover label.sk-toggleable__label {background-color: #d4ebff;}#sk-container-id-2 div.sk-serial::before {content: \"\";position: absolute;border-left: 1px solid gray;box-sizing: border-box;top: 0;bottom: 0;left: 50%;z-index: 0;}#sk-container-id-2 div.sk-serial {display: flex;flex-direction: column;align-items: center;background-color: white;padding-right: 0.2em;padding-left: 0.2em;position: relative;}#sk-container-id-2 div.sk-item {position: relative;z-index: 1;}#sk-container-id-2 div.sk-parallel {display: flex;align-items: stretch;justify-content: center;background-color: white;position: relative;}#sk-container-id-2 div.sk-item::before, #sk-container-id-2 div.sk-parallel-item::before {content: \"\";position: absolute;border-left: 1px solid gray;box-sizing: border-box;top: 0;bottom: 0;left: 50%;z-index: -1;}#sk-container-id-2 div.sk-parallel-item {display: flex;flex-direction: column;z-index: 1;position: relative;background-color: white;}#sk-container-id-2 div.sk-parallel-item:first-child::after {align-self: flex-end;width: 50%;}#sk-container-id-2 div.sk-parallel-item:last-child::after {align-self: flex-start;width: 50%;}#sk-container-id-2 div.sk-parallel-item:only-child::after {width: 0;}#sk-container-id-2 div.sk-dashed-wrapped {border: 1px dashed gray;margin: 0 0.4em 0.5em 0.4em;box-sizing: border-box;padding-bottom: 0.4em;background-color: white;}#sk-container-id-2 div.sk-label label {font-family: monospace;font-weight: bold;display: inline-block;line-height: 1.2em;}#sk-container-id-2 div.sk-label-container {text-align: center;}#sk-container-id-2 div.sk-container {/* jupyter's `normalize.less` sets `[hidden] { display: none; }` but bootstrap.min.css set `[hidden] { display: none !important; }` so we also need the `!important` here to be able to override the default hidden behavior on the sphinx rendered scikit-learn.org. See: https://github.com/scikit-learn/scikit-learn/issues/21755 */display: inline-block !important;position: relative;}#sk-container-id-2 div.sk-text-repr-fallback {display: none;}</style><div id=\"sk-container-id-2\" class=\"sk-top-container\"><div class=\"sk-text-repr-fallback\"><pre>LogisticRegression()</pre><b>In a Jupyter environment, please rerun this cell to show the HTML representation or trust the notebook. <br />On GitHub, the HTML representation is unable to render, please try loading this page with nbviewer.org.</b></div><div class=\"sk-container\" hidden><div class=\"sk-item\"><div class=\"sk-estimator sk-toggleable\"><input class=\"sk-toggleable__control sk-hidden--visually\" id=\"sk-estimator-id-2\" type=\"checkbox\" checked><label for=\"sk-estimator-id-2\" class=\"sk-toggleable__label sk-toggleable__label-arrow\">LogisticRegression</label><div class=\"sk-toggleable__content\"><pre>LogisticRegression()</pre></div></div></div></div></div>"
      ],
      "text/plain": [
       "LogisticRegression()"
      ]
     },
     "execution_count": 97,
     "metadata": {},
     "output_type": "execute_result"
    }
   ],
   "source": [
    "model.fit(X_train_features, y_train)"
   ]
  },
  {
   "cell_type": "markdown",
   "id": "f7c6a260",
   "metadata": {},
   "source": [
    "### Our model if fitted and now its time to check the accuracy of  model, but before we will Evaluate this model "
   ]
  },
  {
   "cell_type": "markdown",
   "id": "123fa06a",
   "metadata": {},
   "source": [
    "##### Prediction made by our model on given training  data"
   ]
  },
  {
   "cell_type": "code",
   "execution_count": 98,
   "id": "50cbbcef",
   "metadata": {},
   "outputs": [],
   "source": [
    "prediction_on_training_data = model.predict(X_train_features)"
   ]
  },
  {
   "cell_type": "code",
   "execution_count": 99,
   "id": "cf1bc620",
   "metadata": {},
   "outputs": [
    {
     "data": {
      "text/plain": [
       "array([0, 1, 0, ..., 1, 0, 0])"
      ]
     },
     "execution_count": 99,
     "metadata": {},
     "output_type": "execute_result"
    }
   ],
   "source": [
    "prediction_on_training_data"
   ]
  },
  {
   "cell_type": "code",
   "execution_count": 100,
   "id": "5dd88315",
   "metadata": {},
   "outputs": [],
   "source": [
    "prediction_on_test_data = model.predict(X_test_features)"
   ]
  },
  {
   "cell_type": "code",
   "execution_count": 101,
   "id": "3298f09a",
   "metadata": {},
   "outputs": [
    {
     "data": {
      "text/plain": [
       "array([0, 1, 0, ..., 0, 1, 0])"
      ]
     },
     "execution_count": 101,
     "metadata": {},
     "output_type": "execute_result"
    }
   ],
   "source": [
    "prediction_on_test_data"
   ]
  },
  {
   "cell_type": "code",
   "execution_count": 102,
   "id": "29325656",
   "metadata": {},
   "outputs": [],
   "source": [
    "from sklearn.metrics import accuracy_score"
   ]
  },
  {
   "cell_type": "markdown",
   "id": "33eb4fa8",
   "metadata": {},
   "source": [
    "##### Accuracy of prediction on training data"
   ]
  },
  {
   "cell_type": "code",
   "execution_count": 103,
   "id": "1c6f90fa",
   "metadata": {},
   "outputs": [],
   "source": [
    "accuracy_on_training_data = accuracy_score(y_train, prediction_on_training_data)"
   ]
  },
  {
   "cell_type": "code",
   "execution_count": 104,
   "id": "a3c1f320",
   "metadata": {},
   "outputs": [
    {
     "data": {
      "text/plain": [
       "0.9961315280464217"
      ]
     },
     "execution_count": 104,
     "metadata": {},
     "output_type": "execute_result"
    }
   ],
   "source": [
    "accuracy_on_training_data"
   ]
  },
  {
   "cell_type": "code",
   "execution_count": 105,
   "id": "30877740",
   "metadata": {},
   "outputs": [],
   "source": [
    "accuracy_on_test_data = accuracy_score(y_test, prediction_on_test_data)"
   ]
  },
  {
   "cell_type": "code",
   "execution_count": 106,
   "id": "95ee017e",
   "metadata": {},
   "outputs": [
    {
     "data": {
      "text/plain": [
       "0.9903350515463918"
      ]
     },
     "execution_count": 106,
     "metadata": {},
     "output_type": "execute_result"
    }
   ],
   "source": [
    "accuracy_on_test_data"
   ]
  },
  {
   "cell_type": "code",
   "execution_count": null,
   "id": "1cb594e2",
   "metadata": {},
   "outputs": [],
   "source": [
    "Hi,\n",
    "\n",
    "Your password-protected Weekly Funds Ledger Report for 01/04/2023 is attached to this email\n",
    "\n",
    "To access it, use your PAN (in lowercase). For e.g. if your PAN is ABCD1234X, enter the password when prompted as abcd1234x.\n",
    "\n",
    "This statement is emailed to you every week and provides details on all funds in your Trading account.\n",
    "\n",
    "For further queries, you can raise a ticket here: https://uptx.to/raise-ticket \n",
    "\n",
    "Happy Investing,\n",
    "Team Upstox \n"
   ]
  },
  {
   "cell_type": "code",
   "execution_count": null,
   "id": "000f15bf",
   "metadata": {},
   "outputs": [],
   "source": []
  },
  {
   "cell_type": "code",
   "execution_count": 113,
   "id": "1c535574",
   "metadata": {},
   "outputs": [
    {
     "name": "stdout",
     "output_type": "stream",
     "text": [
      "Enter : We want to notify you that the NSE & MCX will be conducting a Mock Trading Day tomorrow, 1st April, 2023. The event will feature simulated data and a mock trading session from 9:00 AM to 6:00 PM. Please note that your trading will be temporarily moved from the primary to the DR site during this activity. This may result in some technical difficulties, and we apologise for any inconvenience this may cause. Below is the schedule for the Mock Trading Day for Primary and DR site participation\n",
      "[0]\n",
      "Spam mail\n"
     ]
    }
   ],
   "source": [
    "input_mail = [input('Enter : ')]\n",
    "# convert text to feature vectors\n",
    "input_data_features = feature_extraction.transform(input_mail)\n",
    "\n",
    "# making prediction\n",
    "\n",
    "prediction = model.predict(input_data_features)\n",
    "print(prediction)\n",
    "\n",
    "\n",
    "if (prediction[0]==1):\n",
    "  print('Ham mail')\n",
    "\n",
    "else:\n",
    "  print('Spam mail')"
   ]
  },
  {
   "cell_type": "code",
   "execution_count": null,
   "id": "01fff65b",
   "metadata": {},
   "outputs": [],
   "source": []
  },
  {
   "cell_type": "code",
   "execution_count": null,
   "id": "23bed2d6",
   "metadata": {},
   "outputs": [],
   "source": []
  }
 ],
 "metadata": {
  "kernelspec": {
   "display_name": "Python 3 (ipykernel)",
   "language": "python",
   "name": "python3"
  },
  "language_info": {
   "codemirror_mode": {
    "name": "ipython",
    "version": 3
   },
   "file_extension": ".py",
   "mimetype": "text/x-python",
   "name": "python",
   "nbconvert_exporter": "python",
   "pygments_lexer": "ipython3",
   "version": "3.11.1"
  }
 },
 "nbformat": 4,
 "nbformat_minor": 5
}
